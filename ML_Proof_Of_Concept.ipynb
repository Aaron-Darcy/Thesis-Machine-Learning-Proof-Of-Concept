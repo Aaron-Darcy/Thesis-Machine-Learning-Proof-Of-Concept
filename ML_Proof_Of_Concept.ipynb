{
  "nbformat": 4,
  "nbformat_minor": 0,
  "metadata": {
    "colab": {
      "provenance": [],
      "authorship_tag": "ABX9TyOQOl3PoJL2wdEmE0JOeGl6"
    },
    "kernelspec": {
      "name": "python3",
      "display_name": "Python 3"
    },
    "language_info": {
      "name": "python"
    }
  },
  "cells": [
    {
      "cell_type": "markdown",
      "source": [
        "# Python Pre-Processing\n"
      ],
      "metadata": {
        "id": "lrFf5Zw4ecGc"
      }
    },
    {
      "cell_type": "markdown",
      "source": [
        "# Import Drive Location of JSON File"
      ],
      "metadata": {
        "id": "LKaeFOurkUGb"
      }
    },
    {
      "cell_type": "code",
      "execution_count": null,
      "metadata": {
        "id": "qw1mp1RPok04",
        "colab": {
          "base_uri": "https://localhost:8080/"
        },
        "outputId": "a96daab5-d1a4-4328-f4db-cf54ef30a2dd"
      },
      "outputs": [
        {
          "output_type": "stream",
          "name": "stdout",
          "text": [
            "Mounted at /content/drive\n"
          ]
        }
      ],
      "source": [
        "# Import Google Drive For JSON File\n",
        "from google.colab import drive\n",
        "drive.mount('/content/drive')\n"
      ]
    },
    {
      "cell_type": "markdown",
      "source": [
        "# Import of JSON File"
      ],
      "metadata": {
        "id": "qhgPqiQfk10U"
      }
    },
    {
      "cell_type": "code",
      "source": [
        "# Import JSON file for Pre-processing\n",
        "import json\n",
        "\n",
        "file_path = '/content/drive/MyDrive/PreProcessedData2.json'\n",
        "with open(file_path, 'r') as file:\n",
        "    data = json.load(file)\n"
      ],
      "metadata": {
        "id": "X9M8MRAvBmx9"
      },
      "execution_count": null,
      "outputs": []
    },
    {
      "cell_type": "markdown",
      "source": [
        "# Load JSON into DataFrame"
      ],
      "metadata": {
        "id": "UWHGcn2wlCpS"
      }
    },
    {
      "cell_type": "code",
      "source": [
        "import pandas as pd\n",
        "import json\n",
        "# Load the JSON file into a DataFrame\n",
        "df = pd.read_json('/content/drive/MyDrive/PreProcessedData2.json')\n"
      ],
      "metadata": {
        "id": "vJzljK6TDxIh"
      },
      "execution_count": null,
      "outputs": []
    },
    {
      "cell_type": "code",
      "source": [
        "\n",
        "# Parse the 'json_data' column\n",
        "df['json_data'] = df['json_data'].apply(json.loads)\n",
        "df = pd.json_normalize(df['json_data'])"
      ],
      "metadata": {
        "id": "KTdfUFgTVwqZ"
      },
      "execution_count": null,
      "outputs": []
    },
    {
      "cell_type": "markdown",
      "source": [
        "# Define Sensor Ranges"
      ],
      "metadata": {
        "id": "CddRYx6flJYT"
      }
    },
    {
      "cell_type": "code",
      "source": [
        "# Define the sensor range categories based on the table\n",
        "def categorize_sensor(value):\n",
        "    if 0 <= value <= 8:\n",
        "        return 'fridge/cold rooms'\n",
        "    elif -25 <= value <= -10:\n",
        "        return 'freezer'\n",
        "    elif 35 <= value <= 40:\n",
        "        return 'incubator'\n",
        "    elif -85 <= value <= -70:\n",
        "        return 'cryogenic'\n",
        "    elif -200 <= value <= -190:\n",
        "        return 'liquid nitrogen'\n",
        "    else:\n",
        "        return 'other'\n"
      ],
      "metadata": {
        "id": "CilIyNbuVyDi"
      },
      "execution_count": null,
      "outputs": []
    },
    {
      "cell_type": "markdown",
      "source": [
        "# Apply the Categorization Function to the DataFrame & Display Total Records\n"
      ],
      "metadata": {
        "id": "n2gSWQ303m8T"
      }
    },
    {
      "cell_type": "code",
      "source": [
        "# Apply the categorization function to the 'channel_value' column\n",
        "df['category'] = df['channel_value'].apply(categorize_sensor)\n",
        "\n",
        "# Calculate and display total number of records\n",
        "total_records = len(df)\n",
        "print(f\"Total records in the dataset: {total_records}\")\n"
      ],
      "metadata": {
        "id": "qHMdIpL0VymP",
        "colab": {
          "base_uri": "https://localhost:8080/"
        },
        "outputId": "542056c1-b6b9-43e2-ca3f-3322aabceaea"
      },
      "execution_count": null,
      "outputs": [
        {
          "output_type": "stream",
          "name": "stdout",
          "text": [
            "Total records in the dataset: 1134937\n"
          ]
        }
      ]
    },
    {
      "cell_type": "markdown",
      "source": [
        "# Calculate Total Number Of Records & Categories"
      ],
      "metadata": {
        "id": "vjCVfb3OoP6T"
      }
    },
    {
      "cell_type": "code",
      "source": [
        "# Calculate the total number of records\n",
        "total_records = len(df)\n",
        "\n",
        "# Count the number of records in each category\n",
        "category_counts = df['category'].value_counts()\n",
        "\n",
        "# Calculate the number of unique sensors for each category\n",
        "unique_sensors = df.groupby('category')['channel_description'].nunique()\n",
        "\n",
        "\n",
        "# Create a DataFrame for the summary\n",
        "category_summary = pd.DataFrame({\n",
        "    'Category': category_counts.index,\n",
        "    'Total Records': [total_records] * len(category_counts),\n",
        "    'Category Records': category_counts.values,\n",
        "    'Unique Sensors': unique_sensors.reindex(category_counts.index).values,\n",
        "    'Category %': (category_counts / total_records * 100).values\n",
        "})\n",
        "\n",
        "# Print the summary DataFrame\n",
        "print(category_summary)\n",
        "\n",
        "# Create a dictionary to hold the unique sensor names for each category\n",
        "unique_sensors_names = df.groupby('category')['channel_description'].apply(set).to_dict()\n",
        "\n",
        "# Print the names of the unique sensors for each category\n",
        "for category, sensors in unique_sensors_names.items():\n",
        "    print(f\"\\nCategory: {category}\")\n",
        "    print(f\"Unique sensors: {', '.join(sensors)}\")\n",
        "\n"
      ],
      "metadata": {
        "colab": {
          "base_uri": "https://localhost:8080/"
        },
        "id": "r7w2-paDmvuH",
        "outputId": "a10fb311-bc30-4b97-ed6e-eea487b6069e"
      },
      "execution_count": null,
      "outputs": [
        {
          "output_type": "stream",
          "name": "stdout",
          "text": [
            "            Category  Total Records  Category Records  Unique Sensors  \\\n",
            "0  fridge/cold rooms        1134937            807231               9   \n",
            "1            freezer        1134937            182872               3   \n",
            "2          cryogenic        1134937            115158               1   \n",
            "3              other        1134937             29676               8   \n",
            "\n",
            "   Category %  \n",
            "0   71.125622  \n",
            "1   16.112965  \n",
            "2   10.146643  \n",
            "3    2.614771  \n",
            "\n",
            "Category: cryogenic\n",
            "Unique sensors: CTGeneFrz\n",
            "\n",
            "Category: freezer\n",
            "Unique sensors: CT-20FrzA, CTGeneFrz, Freezer1A\n",
            "\n",
            "Category: fridge/cold rooms\n",
            "Unique sensors: CTGeneFrz, CytSupFdA, CT-20FrzA, DisBotFdA, ASUFrid1A, ASUFrdg4P, CDRmFrd A, ClinTr63P, IsoSupFdP\n",
            "\n",
            "Category: other\n",
            "Unique sensors: CTGeneFrz, CT-20FrzA, DisBotFdA, ASUFrid1A, ASUFrdg4P, CDRmFrd A, CytSupFdA, IsoSupFdP\n"
          ]
        }
      ]
    },
    {
      "cell_type": "markdown",
      "source": [
        "# Data Pre-Processing Overview So Far\n",
        "\n",
        "Initial data pre-processing identified 1,134,937 records, predominantly within the 'Fridge/Cold rooms' range, as depicted in the dataset distribution chart. The 'Other Category' comprises 8 unique sensors, prompting further investigation to differentiate between expected range deviations and sensor data anomalies. Such scrutiny is essential to enhance the dataset's accuracy and ensure its reliability for subsequent analyses.\n",
        "\n",
        "![Category Percentages](https://drive.google.com/uc?export=download&id=1RD6qRxqghwMAT_-tzqTQX-f5aGyej4-u)\n",
        "*Figure: Distribution of Temperature Categories across the Dataset*\n"
      ],
      "metadata": {
        "id": "HFgerTV282Y8"
      }
    },
    {
      "cell_type": "markdown",
      "source": [],
      "metadata": {
        "id": "kIHIvZmX5xr5"
      }
    },
    {
      "cell_type": "markdown",
      "source": [
        "# Determine Sensor Cateogry Based On Predominant Range"
      ],
      "metadata": {
        "id": "XsmqmABl5zgY"
      }
    },
    {
      "cell_type": "code",
      "source": [
        "# Define category ranges\n",
        "category_ranges = {\n",
        "    'fridge/cold rooms': (0, 8),\n",
        "    'freezer': (-25, -10),\n",
        "    'incubator': (35, 40),\n",
        "    'cryogenic': (-85, -70),\n",
        "    'liquid nitrogen': (-200, -190),\n",
        "}\n",
        "\n",
        "# Calculate the proportion of readings for each category for each sensor\n",
        "category_proportions = {sensor: {} for sensor in df['channel_description'].unique()}\n",
        "\n",
        "for sensor in category_proportions.keys():\n",
        "    sensor_data = df[df['channel_description'] == sensor]\n",
        "    total_records = len(sensor_data)\n",
        "\n",
        "    for category, (lower_limit, upper_limit) in category_ranges.items():\n",
        "        in_range_count = sensor_data[\n",
        "            (sensor_data['channel_value'] >= lower_limit) &\n",
        "            (sensor_data['channel_value'] <= upper_limit)\n",
        "        ].shape[0]\n",
        "        category_proportions[sensor][category] = in_range_count / total_records if total_records > 0 else 0\n",
        "\n",
        "# Determine the predominant category for each sensor\n",
        "threshold = 0.5  # 50% threshold\n",
        "predominant_categories = {}\n",
        "\n",
        "for sensor, proportions in category_proportions.items():\n",
        "    max_category = max(proportions, key=proportions.get)\n",
        "    if proportions[max_category] >= threshold:\n",
        "        predominant_categories[sensor] = max_category\n",
        "    else:\n",
        "        predominant_categories[sensor] = 'other'\n",
        "\n",
        "# Initialize a list to store results\n",
        "results = []\n",
        "\n",
        "# Iterate over each sensor and its predominant category\n",
        "for sensor, category in predominant_categories.items():\n",
        "    sensor_data = df[df['channel_description'] == sensor]\n",
        "    total_records = len(sensor_data)\n",
        "    lower_limit, upper_limit = category_ranges[category]\n",
        "\n",
        "    # Count in-range and out-of-range records\n",
        "    in_range_records_count = sensor_data[\n",
        "        (sensor_data['channel_value'] >= lower_limit) &\n",
        "        (sensor_data['channel_value'] <= upper_limit)\n",
        "    ].shape[0]\n",
        "    out_of_range_records_count = total_records - in_range_records_count\n",
        "\n",
        "    # Calculate the percentage of records out of range\n",
        "    percent_out_of_range = (out_of_range_records_count / total_records) * 100 if total_records > 0 else 0\n",
        "\n",
        "    # Append results\n",
        "    results.append({\n",
        "        'Sensor': sensor,\n",
        "        'Predominant Category': category,\n",
        "        'Total Records': total_records,\n",
        "        'In Range Records': in_range_records_count,\n",
        "        'Out of Range Records': out_of_range_records_count,\n",
        "        'Percent Out of Range': percent_out_of_range\n",
        "    })\n",
        "\n",
        "# Convert results to a DataFrame\n",
        "results_df = pd.DataFrame(results)\n",
        "\n",
        "# Sort the results by 'Out of Range Records' in descending order\n",
        "sorted_results_df = results_df.sort_values('Out of Range Records', ascending=False)\n",
        "\n",
        "# Display Sensor Name, Predominant Category, Total Records, In Range Records, Out of Range Records, and Percentage Out of Range\n",
        "print(sorted_results_df[['Sensor', 'Predominant Category', 'Total Records', 'In Range Records', 'Out of Range Records', 'Percent Out of Range']])\n"
      ],
      "metadata": {
        "colab": {
          "base_uri": "https://localhost:8080/"
        },
        "id": "YSpBzEgOVyo-",
        "outputId": "679b3e34-35e4-4e6e-cfba-ed923e5927cd"
      },
      "execution_count": null,
      "outputs": [
        {
          "output_type": "stream",
          "name": "stdout",
          "text": [
            "      Sensor Predominant Category  Total Records  In Range Records  \\\n",
            "4  CT-20FrzA              freezer         115084             67497   \n",
            "7  DisBotFdA    fridge/cold rooms         115368             93489   \n",
            "0  ASUFrdg4P    fridge/cold rooms         116082            115700   \n",
            "5  CTGeneFrz            cryogenic         115506            115158   \n",
            "6  CytSupFdA    fridge/cold rooms         115214            114983   \n",
            "2  CDRmFrd A    fridge/cold rooms         115460            115268   \n",
            "9  IsoSupFdP    fridge/cold rooms          95661             95628   \n",
            "1  ASUFrid1A    fridge/cold rooms         115818            115807   \n",
            "3  ClinTr63P    fridge/cold rooms         115378            115378   \n",
            "8  Freezer1A              freezer         115366            115366   \n",
            "\n",
            "   Out of Range Records  Percent Out of Range  \n",
            "4                 47587             41.349797  \n",
            "7                 21879             18.964531  \n",
            "0                   382              0.329078  \n",
            "5                   348              0.301283  \n",
            "6                   231              0.200496  \n",
            "2                   192              0.166291  \n",
            "9                    33              0.034497  \n",
            "1                    11              0.009498  \n",
            "3                     0              0.000000  \n",
            "8                     0              0.000000  \n"
          ]
        }
      ]
    },
    {
      "cell_type": "markdown",
      "source": [
        "# Analysing Categorization\n",
        "\n",
        "Recent sensor categorization aligned with Kelsius thresholds revealed high conformity across most sensors. Yet, two sensors—'CT-20FrzA' and 'DisBotFdA'—deviated significantly, with 41% and 19% of their readings respectively outside their main categories. Investigation using a smoothed average temperature graph exposed 'CT-20FrzA's' abnormal temperature fluctuations, hinting at possible relocations and validating its exclusion from standard categorization. 'DisBotFdA' exhibited similar inconsistencies, leading to its exclusion to preserve data integrity. Consequently, freezer and cryogenic sensors, being underrepresented, were removed to maintain dataset balance, crucial for the proposed machine learning models focused on anomaly detection and regression. This dataset refinement is a foundational step toward a comprehensive, focused analysis. Remaining data, set aside for now, will be utilized for future enhancements.\n",
        "\n",
        "![Category Percentages](https://drive.google.com/uc?export=download&id=1a_A768BJSMYTLXqdD0VkXQOmVYHp70vo)\n",
        "*Figure: Smoothed Average of CT-20FrzA*"
      ],
      "metadata": {
        "id": "inPzG5bb6Wl2"
      }
    },
    {
      "cell_type": "markdown",
      "source": [
        "# Final Phase of Pre-Processing\n",
        "\n",
        "Before final pre-processing, the dataset stands at 673,613 records. Next, we'll refine the categorization by excluding four sensors/categories and any outlying temperature records. This crucial step ensures precise & reliable data allowing for accuracy when applying the machine learning model."
      ],
      "metadata": {
        "id": "OCt_rJFfH99Q"
      }
    },
    {
      "cell_type": "code",
      "source": [
        "import pandas as pd\n",
        "\n",
        "# Drop rows where 'channel_description' matches any of the specified sensors\n",
        "df_final= df[~df['channel_description'].isin(['CT-20FrzA', 'DisBotFdA', 'CTGeneFrz', 'Freezer1A'])]\n",
        "\n",
        "# Initialize a dictionary to calculate category proportions for each sensor in the filtered dataset\n",
        "category_proportions_filtered = {sensor: {} for sensor in df_final['channel_description'].unique()}\n",
        "\n",
        "# Calculate the proportion of in-range readings for each category for each sensor\n",
        "for sensor in category_proportions_filtered.keys():\n",
        "    sensor_data = df_final[df_final['channel_description'] == sensor]\n",
        "    total_records = len(sensor_data)\n",
        "    for category, (lower_limit, upper_limit) in category_ranges.items():\n",
        "        in_range_count = sensor_data[(sensor_data['channel_value'] >= lower_limit) & (sensor_data['channel_value'] <= upper_limit)].shape[0]\n",
        "        category_proportions_filtered[sensor][category] = in_range_count / total_records if total_records > 0 else 0\n",
        "\n",
        "# Determine the predominant category for each sensor\n",
        "predominant_categories_filtered = {}\n",
        "for sensor, proportions in category_proportions_filtered.items():\n",
        "    max_category = max(proportions, key=proportions.get)\n",
        "    predominant_categories_filtered[sensor] = max_category if proportions[max_category] >= threshold else 'other'\n",
        "\n",
        "# Generate a summary for each sensor in the filtered dataset\n",
        "results_filtered = []\n",
        "for sensor, category in predominant_categories_filtered.items():\n",
        "    sensor_data = df_final[df_final['channel_description'] == sensor]\n",
        "    total_records = len(sensor_data)\n",
        "    lower_limit, upper_limit = category_ranges[category]\n",
        "\n",
        "    in_range_records_count = sensor_data[(sensor_data['channel_value'] >= lower_limit) & (sensor_data['channel_value'] <= upper_limit)].shape[0]\n",
        "    out_of_range_records_count = total_records - in_range_records_count\n",
        "\n",
        "    percent_out_of_range = (out_of_range_records_count / total_records) * 100 if total_records > 0 else 0\n",
        "\n",
        "    results_filtered.append({\n",
        "        'Sensor': sensor,\n",
        "        'Predominant Category': category,\n",
        "        'Total Records': total_records,\n",
        "        'In Range Records': in_range_records_count,\n",
        "        'Out of Range Records': out_of_range_records_count,\n",
        "        'Percent Out of Range': percent_out_of_range\n",
        "    })\n",
        "\n",
        "# Convert the results to a DataFrame and sort it\n",
        "df_final_table = pd.DataFrame(results_filtered)\n",
        "sorted_final_df = df_final_table.sort_values('Out of Range Records', ascending=False)\n",
        "\n",
        "# Calculate the sum for each column to create a totals row\n",
        "totals = {\n",
        "    'Sensor': 'Total',\n",
        "    'Predominant Category': 'N/A',\n",
        "    'Total Records': df_final_table['Total Records'].sum(),\n",
        "    'In Range Records': df_final_table['In Range Records'].sum(),\n",
        "    'Out of Range Records': df_final_table['Out of Range Records'].sum(),\n",
        "    'Percent Out of Range': (df_final_table['Out of Range Records'].sum() / df_final_table['Total Records'].sum()) * 100\n",
        "}\n",
        "\n",
        "# Append the totals row to the DataFrame\n",
        "sorted_final_df = sorted_final_df.append(totals, ignore_index=True)\n",
        "\n",
        "# Display the final DataFrame\n",
        "print(sorted_final_df[['Sensor', 'Predominant Category', 'Total Records', 'In Range Records', 'Out of Range Records', 'Percent Out of Range']])\n",
        "\n"
      ],
      "metadata": {
        "id": "t8hrsJAo9AHl",
        "colab": {
          "base_uri": "https://localhost:8080/"
        },
        "outputId": "f306005b-ed2c-43c8-8730-1ffed3bbeb70"
      },
      "execution_count": null,
      "outputs": [
        {
          "output_type": "stream",
          "name": "stdout",
          "text": [
            "      Sensor Predominant Category  Total Records  In Range Records  \\\n",
            "0  ASUFrdg4P    fridge/cold rooms         116082            115700   \n",
            "1  CytSupFdA    fridge/cold rooms         115214            114983   \n",
            "2  CDRmFrd A    fridge/cold rooms         115460            115268   \n",
            "3  IsoSupFdP    fridge/cold rooms          95661             95628   \n",
            "4  ASUFrid1A    fridge/cold rooms         115818            115807   \n",
            "5  ClinTr63P    fridge/cold rooms         115378            115378   \n",
            "6      Total                  N/A         673613            672764   \n",
            "\n",
            "   Out of Range Records  Percent Out of Range  \n",
            "0                   382              0.329078  \n",
            "1                   231              0.200496  \n",
            "2                   192              0.166291  \n",
            "3                    33              0.034497  \n",
            "4                    11              0.009498  \n",
            "5                     0              0.000000  \n",
            "6                   849              0.126037  \n"
          ]
        },
        {
          "output_type": "stream",
          "name": "stderr",
          "text": [
            "<ipython-input-9-704b75e14d9d>:59: FutureWarning: The frame.append method is deprecated and will be removed from pandas in a future version. Use pandas.concat instead.\n",
            "  sorted_final_df = sorted_final_df.append(totals, ignore_index=True)\n"
          ]
        }
      ]
    },
    {
      "cell_type": "markdown",
      "source": [
        "# Final Analysis\n",
        "\n",
        "Post-preprocessing, the dataset for 'Fridge/Cold Room' stands at 672,764 records, a 40.7% decrease from the original JSON File.\n",
        "\n",
        "The below graph displays daily average temperatures over a year, with variability shown by the scattered blue dots. The red 'Regression Fit' line indicates a general downward trend in temperature, as per the linear regression model's analysis.\n"
      ],
      "metadata": {
        "id": "5paYqiqePAhy"
      }
    },
    {
      "cell_type": "code",
      "source": [
        "# @title Regression Graph\n",
        "import numpy as np\n",
        "import pandas as pd\n",
        "import plotly.express as px\n",
        "import plotly.graph_objects as go\n",
        "from sklearn.linear_model import LinearRegression\n",
        "\n",
        "# Ensure 'date' column is a datetime dtype before setting it as index\n",
        "df_final['date'] = pd.to_datetime(df_final['date'])\n",
        "df_aggregated = df_final.set_index('date').resample('D').mean().reset_index()\n",
        "\n",
        "# Aggregate data by month\n",
        "df_aggregated = df_final.set_index('date').resample('D').mean().reset_index()\n",
        "\n",
        "# Use the ordinal value of the date for regression\n",
        "df_aggregated['date_ordinal'] = df_aggregated['date'].map(pd.Timestamp.toordinal)\n",
        "\n",
        "# Prepare the data for the regression model\n",
        "X_aggregated = df_aggregated[['date_ordinal']]\n",
        "y_aggregated = df_aggregated['channel_value']\n",
        "\n",
        "# Fit the regression model\n",
        "model = LinearRegression()\n",
        "model.fit(X_aggregated, y_aggregated)\n",
        "\n",
        "# Create a range for predictions\n",
        "x_range = np.linspace(X_aggregated['date_ordinal'].min(), X_aggregated['date_ordinal'].max(), 100).astype(int)\n",
        "y_range = model.predict(x_range.reshape(-1, 1))\n",
        "\n",
        "# Create the scatter plot for the aggregated data\n",
        "fig = px.scatter(df_aggregated, x='date', y='channel_value', opacity=0.65, title='Daily Aggregated Temperature Over Time')\n",
        "\n",
        "# Convert ordinal dates back to datetime for plotting\n",
        "x_dates = [pd.Timestamp.fromordinal(int(ordinal)) for ordinal in x_range]\n",
        "\n",
        "# Add the regression fit line\n",
        "fig.add_traces(go.Scatter(x=x_dates, y=y_range, name='Regression Fit', mode='lines'))\n",
        "\n",
        "# Show the plot\n",
        "fig.show()\n"
      ],
      "metadata": {
        "colab": {
          "base_uri": "https://localhost:8080/",
          "height": 783
        },
        "id": "oPUiqh20ToPu",
        "outputId": "3fb4c3db-a718-4010-9762-983fce7dc9ed",
        "cellView": "form"
      },
      "execution_count": null,
      "outputs": [
        {
          "output_type": "stream",
          "name": "stderr",
          "text": [
            "<ipython-input-10-f1f050ea4b46>:9: SettingWithCopyWarning: \n",
            "A value is trying to be set on a copy of a slice from a DataFrame.\n",
            "Try using .loc[row_indexer,col_indexer] = value instead\n",
            "\n",
            "See the caveats in the documentation: https://pandas.pydata.org/pandas-docs/stable/user_guide/indexing.html#returning-a-view-versus-a-copy\n",
            "  df_final['date'] = pd.to_datetime(df_final['date'])\n",
            "<ipython-input-10-f1f050ea4b46>:10: FutureWarning: The default value of numeric_only in DataFrameGroupBy.mean is deprecated. In a future version, numeric_only will default to False. Either specify numeric_only or select only columns which should be valid for the function.\n",
            "  df_aggregated = df_final.set_index('date').resample('D').mean().reset_index()\n",
            "<ipython-input-10-f1f050ea4b46>:13: FutureWarning: The default value of numeric_only in DataFrameGroupBy.mean is deprecated. In a future version, numeric_only will default to False. Either specify numeric_only or select only columns which should be valid for the function.\n",
            "  df_aggregated = df_final.set_index('date').resample('D').mean().reset_index()\n",
            "/usr/local/lib/python3.10/dist-packages/sklearn/base.py:439: UserWarning: X does not have valid feature names, but LinearRegression was fitted with feature names\n",
            "  warnings.warn(\n"
          ]
        },
        {
          "output_type": "display_data",
          "data": {
            "text/html": [
              "<html>\n",
              "<head><meta charset=\"utf-8\" /></head>\n",
              "<body>\n",
              "    <div>            <script src=\"https://cdnjs.cloudflare.com/ajax/libs/mathjax/2.7.5/MathJax.js?config=TeX-AMS-MML_SVG\"></script><script type=\"text/javascript\">if (window.MathJax && window.MathJax.Hub && window.MathJax.Hub.Config) {window.MathJax.Hub.Config({SVG: {font: \"STIX-Web\"}});}</script>                <script type=\"text/javascript\">window.PlotlyConfig = {MathJaxConfig: 'local'};</script>\n",
              "        <script charset=\"utf-8\" src=\"https://cdn.plot.ly/plotly-2.24.1.min.js\"></script>                <div id=\"005abdcc-6cc2-4e9e-ba24-676686385a33\" class=\"plotly-graph-div\" style=\"height:525px; width:100%;\"></div>            <script type=\"text/javascript\">                                    window.PLOTLYENV=window.PLOTLYENV || {};                                    if (document.getElementById(\"005abdcc-6cc2-4e9e-ba24-676686385a33\")) {                    Plotly.newPlot(                        \"005abdcc-6cc2-4e9e-ba24-676686385a33\",                        [{\"hovertemplate\":\"date=%{x}\\u003cbr\\u003echannel_value=%{y}\\u003cextra\\u003e\\u003c\\u002fextra\\u003e\",\"legendgroup\":\"\",\"marker\":{\"color\":\"#636efa\",\"opacity\":0.65,\"symbol\":\"circle\"},\"mode\":\"markers\",\"name\":\"\",\"orientation\":\"v\",\"showlegend\":false,\"x\":[\"2022-10-16T00:00:00\",\"2022-10-17T00:00:00\",\"2022-10-18T00:00:00\",\"2022-10-19T00:00:00\",\"2022-10-20T00:00:00\",\"2022-10-21T00:00:00\",\"2022-10-22T00:00:00\",\"2022-10-23T00:00:00\",\"2022-10-24T00:00:00\",\"2022-10-25T00:00:00\",\"2022-10-26T00:00:00\",\"2022-10-27T00:00:00\",\"2022-10-28T00:00:00\",\"2022-10-29T00:00:00\",\"2022-10-30T00:00:00\",\"2022-10-31T00:00:00\",\"2022-11-01T00:00:00\",\"2022-11-02T00:00:00\",\"2022-11-03T00:00:00\",\"2022-11-04T00:00:00\",\"2022-11-05T00:00:00\",\"2022-11-06T00:00:00\",\"2022-11-07T00:00:00\",\"2022-11-08T00:00:00\",\"2022-11-09T00:00:00\",\"2022-11-10T00:00:00\",\"2022-11-11T00:00:00\",\"2022-11-12T00:00:00\",\"2022-11-13T00:00:00\",\"2022-11-14T00:00:00\",\"2022-11-15T00:00:00\",\"2022-11-16T00:00:00\",\"2022-11-17T00:00:00\",\"2022-11-18T00:00:00\",\"2022-11-19T00:00:00\",\"2022-11-20T00:00:00\",\"2022-11-21T00:00:00\",\"2022-11-22T00:00:00\",\"2022-11-23T00:00:00\",\"2022-11-24T00:00:00\",\"2022-11-25T00:00:00\",\"2022-11-26T00:00:00\",\"2022-11-27T00:00:00\",\"2022-11-28T00:00:00\",\"2022-11-29T00:00:00\",\"2022-11-30T00:00:00\",\"2022-12-01T00:00:00\",\"2022-12-02T00:00:00\",\"2022-12-03T00:00:00\",\"2022-12-04T00:00:00\",\"2022-12-05T00:00:00\",\"2022-12-06T00:00:00\",\"2022-12-07T00:00:00\",\"2022-12-08T00:00:00\",\"2022-12-09T00:00:00\",\"2022-12-10T00:00:00\",\"2022-12-11T00:00:00\",\"2022-12-12T00:00:00\",\"2022-12-13T00:00:00\",\"2022-12-14T00:00:00\",\"2022-12-15T00:00:00\",\"2022-12-16T00:00:00\",\"2022-12-17T00:00:00\",\"2022-12-18T00:00:00\",\"2022-12-19T00:00:00\",\"2022-12-20T00:00:00\",\"2022-12-21T00:00:00\",\"2022-12-22T00:00:00\",\"2022-12-23T00:00:00\",\"2022-12-24T00:00:00\",\"2022-12-25T00:00:00\",\"2022-12-26T00:00:00\",\"2022-12-27T00:00:00\",\"2022-12-28T00:00:00\",\"2022-12-29T00:00:00\",\"2022-12-30T00:00:00\",\"2022-12-31T00:00:00\",\"2023-01-01T00:00:00\",\"2023-01-02T00:00:00\",\"2023-01-03T00:00:00\",\"2023-01-04T00:00:00\",\"2023-01-05T00:00:00\",\"2023-01-06T00:00:00\",\"2023-01-07T00:00:00\",\"2023-01-08T00:00:00\",\"2023-01-09T00:00:00\",\"2023-01-10T00:00:00\",\"2023-01-11T00:00:00\",\"2023-01-12T00:00:00\",\"2023-01-13T00:00:00\",\"2023-01-14T00:00:00\",\"2023-01-15T00:00:00\",\"2023-01-16T00:00:00\",\"2023-01-17T00:00:00\",\"2023-01-18T00:00:00\",\"2023-01-19T00:00:00\",\"2023-01-20T00:00:00\",\"2023-01-21T00:00:00\",\"2023-01-22T00:00:00\",\"2023-01-23T00:00:00\",\"2023-01-24T00:00:00\",\"2023-01-25T00:00:00\",\"2023-01-26T00:00:00\",\"2023-01-27T00:00:00\",\"2023-01-28T00:00:00\",\"2023-01-29T00:00:00\",\"2023-01-30T00:00:00\",\"2023-01-31T00:00:00\",\"2023-02-01T00:00:00\",\"2023-02-02T00:00:00\",\"2023-02-03T00:00:00\",\"2023-02-04T00:00:00\",\"2023-02-05T00:00:00\",\"2023-02-06T00:00:00\",\"2023-02-07T00:00:00\",\"2023-02-08T00:00:00\",\"2023-02-09T00:00:00\",\"2023-02-10T00:00:00\",\"2023-02-11T00:00:00\",\"2023-02-12T00:00:00\",\"2023-02-13T00:00:00\",\"2023-02-14T00:00:00\",\"2023-02-15T00:00:00\",\"2023-02-16T00:00:00\",\"2023-02-17T00:00:00\",\"2023-02-18T00:00:00\",\"2023-02-19T00:00:00\",\"2023-02-20T00:00:00\",\"2023-02-21T00:00:00\",\"2023-02-22T00:00:00\",\"2023-02-23T00:00:00\",\"2023-02-24T00:00:00\",\"2023-02-25T00:00:00\",\"2023-02-26T00:00:00\",\"2023-02-27T00:00:00\",\"2023-02-28T00:00:00\",\"2023-03-01T00:00:00\",\"2023-03-02T00:00:00\",\"2023-03-03T00:00:00\",\"2023-03-04T00:00:00\",\"2023-03-05T00:00:00\",\"2023-03-06T00:00:00\",\"2023-03-07T00:00:00\",\"2023-03-08T00:00:00\",\"2023-03-09T00:00:00\",\"2023-03-10T00:00:00\",\"2023-03-11T00:00:00\",\"2023-03-12T00:00:00\",\"2023-03-13T00:00:00\",\"2023-03-14T00:00:00\",\"2023-03-15T00:00:00\",\"2023-03-16T00:00:00\",\"2023-03-17T00:00:00\",\"2023-03-18T00:00:00\",\"2023-03-19T00:00:00\",\"2023-03-20T00:00:00\",\"2023-03-21T00:00:00\",\"2023-03-22T00:00:00\",\"2023-03-23T00:00:00\",\"2023-03-24T00:00:00\",\"2023-03-25T00:00:00\",\"2023-03-26T00:00:00\",\"2023-03-27T00:00:00\",\"2023-03-28T00:00:00\",\"2023-03-29T00:00:00\",\"2023-03-30T00:00:00\",\"2023-03-31T00:00:00\",\"2023-04-01T00:00:00\",\"2023-04-02T00:00:00\",\"2023-04-03T00:00:00\",\"2023-04-04T00:00:00\",\"2023-04-05T00:00:00\",\"2023-04-06T00:00:00\",\"2023-04-07T00:00:00\",\"2023-04-08T00:00:00\",\"2023-04-09T00:00:00\",\"2023-04-10T00:00:00\",\"2023-04-11T00:00:00\",\"2023-04-12T00:00:00\",\"2023-04-13T00:00:00\",\"2023-04-14T00:00:00\",\"2023-04-15T00:00:00\",\"2023-04-16T00:00:00\",\"2023-04-17T00:00:00\",\"2023-04-18T00:00:00\",\"2023-04-19T00:00:00\",\"2023-04-20T00:00:00\",\"2023-04-21T00:00:00\",\"2023-04-22T00:00:00\",\"2023-04-23T00:00:00\",\"2023-04-24T00:00:00\",\"2023-04-25T00:00:00\",\"2023-04-26T00:00:00\",\"2023-04-27T00:00:00\",\"2023-04-28T00:00:00\",\"2023-04-29T00:00:00\",\"2023-04-30T00:00:00\",\"2023-05-01T00:00:00\",\"2023-05-02T00:00:00\",\"2023-05-03T00:00:00\",\"2023-05-04T00:00:00\",\"2023-05-05T00:00:00\",\"2023-05-06T00:00:00\",\"2023-05-07T00:00:00\",\"2023-05-08T00:00:00\",\"2023-05-09T00:00:00\",\"2023-05-10T00:00:00\",\"2023-05-11T00:00:00\",\"2023-05-12T00:00:00\",\"2023-05-13T00:00:00\",\"2023-05-14T00:00:00\",\"2023-05-15T00:00:00\",\"2023-05-16T00:00:00\",\"2023-05-17T00:00:00\",\"2023-05-18T00:00:00\",\"2023-05-19T00:00:00\",\"2023-05-20T00:00:00\",\"2023-05-21T00:00:00\",\"2023-05-22T00:00:00\",\"2023-05-23T00:00:00\",\"2023-05-24T00:00:00\",\"2023-05-25T00:00:00\",\"2023-05-26T00:00:00\",\"2023-05-27T00:00:00\",\"2023-05-28T00:00:00\",\"2023-05-29T00:00:00\",\"2023-05-30T00:00:00\",\"2023-05-31T00:00:00\",\"2023-06-01T00:00:00\",\"2023-06-02T00:00:00\",\"2023-06-03T00:00:00\",\"2023-06-04T00:00:00\",\"2023-06-05T00:00:00\",\"2023-06-06T00:00:00\",\"2023-06-07T00:00:00\",\"2023-06-08T00:00:00\",\"2023-06-09T00:00:00\",\"2023-06-10T00:00:00\",\"2023-06-11T00:00:00\",\"2023-06-12T00:00:00\",\"2023-06-13T00:00:00\",\"2023-06-14T00:00:00\",\"2023-06-15T00:00:00\",\"2023-06-16T00:00:00\",\"2023-06-17T00:00:00\",\"2023-06-18T00:00:00\",\"2023-06-19T00:00:00\",\"2023-06-20T00:00:00\",\"2023-06-21T00:00:00\",\"2023-06-22T00:00:00\",\"2023-06-23T00:00:00\",\"2023-06-24T00:00:00\",\"2023-06-25T00:00:00\",\"2023-06-26T00:00:00\",\"2023-06-27T00:00:00\",\"2023-06-28T00:00:00\",\"2023-06-29T00:00:00\",\"2023-06-30T00:00:00\",\"2023-07-01T00:00:00\",\"2023-07-02T00:00:00\",\"2023-07-03T00:00:00\",\"2023-07-04T00:00:00\",\"2023-07-05T00:00:00\",\"2023-07-06T00:00:00\",\"2023-07-07T00:00:00\",\"2023-07-08T00:00:00\",\"2023-07-09T00:00:00\",\"2023-07-10T00:00:00\",\"2023-07-11T00:00:00\",\"2023-07-12T00:00:00\",\"2023-07-13T00:00:00\",\"2023-07-14T00:00:00\",\"2023-07-15T00:00:00\",\"2023-07-16T00:00:00\",\"2023-07-17T00:00:00\",\"2023-07-18T00:00:00\",\"2023-07-19T00:00:00\",\"2023-07-20T00:00:00\",\"2023-07-21T00:00:00\",\"2023-07-22T00:00:00\",\"2023-07-23T00:00:00\",\"2023-07-24T00:00:00\",\"2023-07-25T00:00:00\",\"2023-07-26T00:00:00\",\"2023-07-27T00:00:00\",\"2023-07-28T00:00:00\",\"2023-07-29T00:00:00\",\"2023-07-30T00:00:00\",\"2023-07-31T00:00:00\",\"2023-08-01T00:00:00\",\"2023-08-02T00:00:00\",\"2023-08-03T00:00:00\",\"2023-08-04T00:00:00\",\"2023-08-05T00:00:00\",\"2023-08-06T00:00:00\",\"2023-08-07T00:00:00\",\"2023-08-08T00:00:00\",\"2023-08-09T00:00:00\",\"2023-08-10T00:00:00\",\"2023-08-11T00:00:00\",\"2023-08-12T00:00:00\",\"2023-08-13T00:00:00\",\"2023-08-14T00:00:00\",\"2023-08-15T00:00:00\",\"2023-08-16T00:00:00\",\"2023-08-17T00:00:00\",\"2023-08-18T00:00:00\",\"2023-08-19T00:00:00\",\"2023-08-20T00:00:00\",\"2023-08-21T00:00:00\",\"2023-08-22T00:00:00\",\"2023-08-23T00:00:00\",\"2023-08-24T00:00:00\",\"2023-08-25T00:00:00\",\"2023-08-26T00:00:00\",\"2023-08-27T00:00:00\",\"2023-08-28T00:00:00\",\"2023-08-29T00:00:00\",\"2023-08-30T00:00:00\",\"2023-08-31T00:00:00\",\"2023-09-01T00:00:00\",\"2023-09-02T00:00:00\",\"2023-09-03T00:00:00\",\"2023-09-04T00:00:00\",\"2023-09-05T00:00:00\",\"2023-09-06T00:00:00\",\"2023-09-07T00:00:00\",\"2023-09-08T00:00:00\",\"2023-09-09T00:00:00\",\"2023-09-10T00:00:00\",\"2023-09-11T00:00:00\",\"2023-09-12T00:00:00\",\"2023-09-13T00:00:00\",\"2023-09-14T00:00:00\",\"2023-09-15T00:00:00\",\"2023-09-16T00:00:00\",\"2023-09-17T00:00:00\",\"2023-09-18T00:00:00\",\"2023-09-19T00:00:00\",\"2023-09-20T00:00:00\",\"2023-09-21T00:00:00\",\"2023-09-22T00:00:00\",\"2023-09-23T00:00:00\",\"2023-09-24T00:00:00\",\"2023-09-25T00:00:00\",\"2023-09-26T00:00:00\",\"2023-09-27T00:00:00\",\"2023-09-28T00:00:00\",\"2023-09-29T00:00:00\",\"2023-09-30T00:00:00\",\"2023-10-01T00:00:00\",\"2023-10-02T00:00:00\",\"2023-10-03T00:00:00\",\"2023-10-04T00:00:00\",\"2023-10-05T00:00:00\",\"2023-10-06T00:00:00\",\"2023-10-07T00:00:00\",\"2023-10-08T00:00:00\",\"2023-10-09T00:00:00\",\"2023-10-10T00:00:00\",\"2023-10-11T00:00:00\",\"2023-10-12T00:00:00\",\"2023-10-13T00:00:00\",\"2023-10-14T00:00:00\",\"2023-10-15T00:00:00\",\"2023-10-16T00:00:00\",\"2023-10-17T00:00:00\",\"2023-10-18T00:00:00\",\"2023-10-19T00:00:00\",\"2023-10-20T00:00:00\",\"2023-10-21T00:00:00\",\"2023-10-22T00:00:00\",\"2023-10-23T00:00:00\",\"2023-10-24T00:00:00\",\"2023-10-25T00:00:00\",\"2023-10-26T00:00:00\",\"2023-10-27T00:00:00\",\"2023-10-28T00:00:00\",\"2023-10-29T00:00:00\",\"2023-10-30T00:00:00\",\"2023-10-31T00:00:00\",\"2023-11-01T00:00:00\",\"2023-11-02T00:00:00\",\"2023-11-03T00:00:00\",\"2023-11-04T00:00:00\",\"2023-11-05T00:00:00\",\"2023-11-06T00:00:00\",\"2023-11-07T00:00:00\",\"2023-11-08T00:00:00\",\"2023-11-09T00:00:00\",\"2023-11-10T00:00:00\",\"2023-11-11T00:00:00\",\"2023-11-12T00:00:00\",\"2023-11-13T00:00:00\",\"2023-11-14T00:00:00\",\"2023-11-15T00:00:00\",\"2023-11-16T00:00:00\",\"2023-11-17T00:00:00\",\"2023-11-18T00:00:00\",\"2023-11-19T00:00:00\",\"2023-11-20T00:00:00\",\"2023-11-21T00:00:00\"],\"xaxis\":\"x\",\"y\":[4.588949274325716,4.536205899860212,4.559201387481557,4.494910359865258,4.4399884237769855,4.279075139002993,4.399768391439662,4.383053800424032,4.482543355881134,4.500983793426443,4.366493069980708,4.331965316375556,4.470462414157184,4.552485547038172,4.498387083827808,4.517881921182076,4.573799871309014,4.567495653296978,4.483169449761536,4.541652206875973,4.579641387254396,4.534606460343908,4.582118044572848,4.577314827867128,4.492214551846462,4.520833339473164,4.594691283291499,4.687687860747983,4.757407415106341,4.657109850266076,4.516984425687432,4.421932887423922,4.432138746322235,4.503643737355017,4.612767191170131,4.643443088597607,4.724985549186544,4.809143537172565,4.641965325168102,4.751562522241363,4.711798762089259,4.69288610060688,4.6928861223941185,4.706585835060723,4.727993099588821,4.733391222854455,4.840485834675486,4.647484119535527,4.761921324870652,4.745633341247046,4.748901763816789,4.711683084124978,4.626936439007004,4.685895957147455,4.663084914682918,4.638692891825273,4.551157436437077,4.6816078787804205,4.7694444683966815,4.801848634690098,4.734393067442613,4.4616897976784795,4.393757215400652,4.378195486570659,4.490514728497604,4.580798126632178,4.650231223299325,4.801554404117626,4.878381532327288,4.880718027710155,4.754161904450786,4.902197841139044,5.045260128671723,4.909259277637358,4.772023115130518,4.72683631780866,4.679549398551711,4.630381973943225,4.657952596853067,4.677848477388407,4.539306351628607,4.494093803981169,4.431618485285368,4.470618847962264,4.414872703590879,4.498844615714802,4.6241758266854935,4.506477722341163,4.5233410861911265,4.572890160262929,4.739004600931097,4.570445380919651,4.469959597722565,4.423886673239492,4.446238446290846,4.531578974478364,4.481965334980474,4.486292683230169,4.398207088920545,4.486431895172348,4.478843956600035,4.624450886525171,5.129809378751229,4.960567462630678,4.438879246108454,4.4446500831425295,5.353761576254059,4.987500026684116,4.893472008041258,4.92924854507336,4.850144581135606,4.976069357491642,4.882312068498203,4.904684754449415,4.918360274328095,4.842980916344452,4.86379408739839,4.981040443023505,5.062485500567221,4.989370275136021,4.975419284981617,4.882186201971483,4.984739844785261,5.058925461865519,5.000519943540321,4.975578744792276,4.9283237628165,5.028538444839689,5.23622684456684,5.132562184071803,5.053788329632452,4.940704405445425,4.886481828320447,4.8718497196373916,4.985796780564218,5.0563331437703845,4.996764875573963,4.954482337241231,5.0278195394402365,5.002888519456798,4.8807625660381175,5.062037028648235,5.047976888810968,4.971271709210611,5.12052025243726,5.249104598021659,5.106358386050759,4.981582011141348,5.081282492802365,4.882802535014547,4.803583818639634,4.631445102195519,4.79000577012078,5.064722841799122,5.050982647548521,5.102313471364451,5.1435586479204645,5.240208007502873,5.339942203505191,5.259884410510862,5.029108798200333,5.022839125022527,5.05210859826505,5.1372616709759304,5.114227891313058,5.035932959124644,4.908439296931889,4.914326967909321,4.864971097907579,4.917235378035925,4.949595372800882,5.062160615629023,5.038660303599526,4.845580591210597,4.838648163879765,4.8267629777765,5.003121359224265,4.924263403361963,4.87421964317388,4.8234682205784525,4.817042200431736,4.60699420278472,4.611482970369254,4.297627320858063,4.387175052721055,4.371312910866503,4.363394926106407,4.374191686958419,4.296238440261395,4.3030583271042016,4.365529232869057,4.675101127051536,4.591093114513135,4.541132294876874,4.5406701447714415,4.587572235454713,4.4994229504089445,4.696416179982224,4.8580589410130655,4.734584290766551,4.627687883928332,4.807460980031999,4.710103929731091,4.571849718534877,4.7099307085845545,4.896994220590316,4.941941083338411,4.738279438390467,4.599133432152504,4.684237866836662,4.620578016022037,4.693236978619085,4.759965327073907,4.693067581580595,4.691681091527867,4.862138741278235,4.808502051373863,4.737009291285456,4.730462460710823,4.753783964959271,4.770924857861734,4.7808203282623465,4.736103144894357,4.6935297570980605,4.690542118497098,4.910468486087594,4.986143185690424,4.738048486153469,4.718150291690937,4.639007507550944,4.705780311540372,4.687009212188853,4.795785189225547,4.855600435519054,4.786085431074711,4.752443922464021,4.7658578945955465,4.811079037925514,4.713344877266182,4.857770047251163,5.0603925792229365,4.764627801016859,4.773079158528425,4.808833754640804,4.779330271358578,4.686497440794886,4.710046191000774,4.724724272552508,4.780357126816077,4.690231215747105,4.7795611921413945,4.817782935451966,4.723223623411288,4.687572283000615,4.610691481589717,4.604214770689297,4.475302942488418,4.516984390702845,4.544367408146409,4.4936489678970934,4.5752309611708135,4.687240195604725,4.586308487986361,4.3841315560167535,4.520046218566851,4.7168494257291345,4.714318720490497,4.703058286409329,4.7032332836067425,4.702426359737491,4.531794568671014,4.314079614987073,4.311771495178539,4.265415698634009,4.355940018970661,4.423614307171203,4.455683793212661,4.3128101736289945,4.322388923037486,4.323383371356453,4.259376784245953,4.427005173082787,4.605020167438267,4.591349452699619,4.510559702497373,4.479792150490279,4.4641084847117325,4.387889293375863,4.497921463110706,4.515531167009411,4.428563189657864,4.28211194975006,4.1882285075729735,4.206809004950372,4.175043236762715,4.227624002212472,4.216156958708238,4.225778531725706,4.300230795843231,4.286334668685745,4.257797101753345,4.195437037546408,4.162552042245534,4.106453882828924,4.1205413176068655,4.056726797609158,4.05975019294797,4.064587681969255,4.038280197056256,4.134583361612426,4.0800138871592,3.937976420958341,3.9496532614121986,4.001457316274862,4.006449359465241,4.178170454972995,4.332916658951176,4.416308115125943,4.379625777940492,4.367614427981859,4.406037490124673,4.4313671420135075,4.372210697589115,4.413671095614463,4.346116515204579,4.3687240019254645,4.54449066517672,4.475694467292891,4.4841192950818805,4.41650492109968,4.39667131136922,4.246773096193133,4.236199746019467,4.137031927684144,4.1140083420127835,4.169375033345488,4.148856582364025,4.222815553457496,4.250311857284313,4.3672222306331,4.3458391148571165,4.412343961686599,4.523977852495528,4.453051387519678,4.451145093859607,4.267453190190026,4.186833008246048,4.209090882419796,4.1244105459416955,4.2363384338754555,4.208044406445116,4.144930585225423,4.190927995704218,4.228660646699353,3.8063106627801586,3.653467404114886,3.5895905748661154,3.5742896844013976,3.8169902893772734,4.117545031972137,4.029680984856848,4.216227461990801,4.283553094685201,4.141094969447421,4.067683761890321,4.15166437063733,4.244074859308519,4.235045107762736,4.3647262699803955,4.396599612907765,4.302908598551129,4.257420257457252,4.440816333530921,4.526589609019329,4.478079822450928,4.276660892055738,4.323134741526659,4.657489880445446,4.620804283126749,4.729421941669001,4.652631542460639,4.5721225701294035,4.586184946925654,4.577790645728434,4.589358034404183,4.5719815157246275,4.635627539051689,4.537304838521416,4.584210557010975,4.6815135870139635,4.625159082418236,4.566377844168643,4.487912096406353,4.5907514964914045,4.608333350331695,4.679838259739383,4.76017345003999,4.685425128462413,4.736358390929382,4.604048584981624,4.602254316021252,4.624766830582693],\"yaxis\":\"y\",\"type\":\"scatter\"},{\"mode\":\"lines\",\"name\":\"Regression Fit\",\"x\":[\"2022-10-16T00:00:00\",\"2022-10-20T00:00:00\",\"2022-10-24T00:00:00\",\"2022-10-28T00:00:00\",\"2022-11-01T00:00:00\",\"2022-11-05T00:00:00\",\"2022-11-09T00:00:00\",\"2022-11-13T00:00:00\",\"2022-11-17T00:00:00\",\"2022-11-21T00:00:00\",\"2022-11-25T00:00:00\",\"2022-11-29T00:00:00\",\"2022-12-03T00:00:00\",\"2022-12-07T00:00:00\",\"2022-12-11T00:00:00\",\"2022-12-15T00:00:00\",\"2022-12-19T00:00:00\",\"2022-12-23T00:00:00\",\"2022-12-27T00:00:00\",\"2022-12-31T00:00:00\",\"2023-01-05T00:00:00\",\"2023-01-09T00:00:00\",\"2023-01-13T00:00:00\",\"2023-01-17T00:00:00\",\"2023-01-21T00:00:00\",\"2023-01-25T00:00:00\",\"2023-01-29T00:00:00\",\"2023-02-02T00:00:00\",\"2023-02-06T00:00:00\",\"2023-02-10T00:00:00\",\"2023-02-14T00:00:00\",\"2023-02-18T00:00:00\",\"2023-02-22T00:00:00\",\"2023-02-26T00:00:00\",\"2023-03-02T00:00:00\",\"2023-03-06T00:00:00\",\"2023-03-10T00:00:00\",\"2023-03-14T00:00:00\",\"2023-03-18T00:00:00\",\"2023-03-22T00:00:00\",\"2023-03-27T00:00:00\",\"2023-03-31T00:00:00\",\"2023-04-04T00:00:00\",\"2023-04-08T00:00:00\",\"2023-04-12T00:00:00\",\"2023-04-16T00:00:00\",\"2023-04-20T00:00:00\",\"2023-04-24T00:00:00\",\"2023-04-28T00:00:00\",\"2023-05-02T00:00:00\",\"2023-05-06T00:00:00\",\"2023-05-10T00:00:00\",\"2023-05-14T00:00:00\",\"2023-05-18T00:00:00\",\"2023-05-22T00:00:00\",\"2023-05-26T00:00:00\",\"2023-05-30T00:00:00\",\"2023-06-03T00:00:00\",\"2023-06-07T00:00:00\",\"2023-06-11T00:00:00\",\"2023-06-16T00:00:00\",\"2023-06-20T00:00:00\",\"2023-06-24T00:00:00\",\"2023-06-28T00:00:00\",\"2023-07-02T00:00:00\",\"2023-07-06T00:00:00\",\"2023-07-10T00:00:00\",\"2023-07-14T00:00:00\",\"2023-07-18T00:00:00\",\"2023-07-22T00:00:00\",\"2023-07-26T00:00:00\",\"2023-07-30T00:00:00\",\"2023-08-03T00:00:00\",\"2023-08-07T00:00:00\",\"2023-08-11T00:00:00\",\"2023-08-15T00:00:00\",\"2023-08-19T00:00:00\",\"2023-08-23T00:00:00\",\"2023-08-27T00:00:00\",\"2023-08-31T00:00:00\",\"2023-09-05T00:00:00\",\"2023-09-09T00:00:00\",\"2023-09-13T00:00:00\",\"2023-09-17T00:00:00\",\"2023-09-21T00:00:00\",\"2023-09-25T00:00:00\",\"2023-09-29T00:00:00\",\"2023-10-03T00:00:00\",\"2023-10-07T00:00:00\",\"2023-10-11T00:00:00\",\"2023-10-15T00:00:00\",\"2023-10-19T00:00:00\",\"2023-10-23T00:00:00\",\"2023-10-27T00:00:00\",\"2023-10-31T00:00:00\",\"2023-11-04T00:00:00\",\"2023-11-08T00:00:00\",\"2023-11-12T00:00:00\",\"2023-11-16T00:00:00\",\"2023-11-21T00:00:00\"],\"y\":[4.8200301144939885,4.815648425593622,4.8112667366932556,4.806885047793003,4.802503358892636,4.79812166999227,4.793739981092017,4.78935829219165,4.784976603291284,4.780594914390917,4.776213225490665,4.771831536590298,4.767449847689932,4.763068158789565,4.758686469889312,4.754304780988946,4.749923092088579,4.7455414031883265,4.74115971428796,4.7367780253875935,4.731300914262192,4.726919225361826,4.722537536461459,4.718155847561206,4.71377415866084,4.709392469760473,4.705010780860221,4.700629091959854,4.696247403059488,4.691865714159121,4.687484025258868,4.683102336358502,4.678720647458135,4.674338958557769,4.669957269657516,4.6655755807571495,4.661193891856783,4.65681220295653,4.652430514056164,4.648048825155797,4.642571714030396,4.638190025130029,4.633808336229663,4.62942664732941,4.625044958429044,4.620663269528677,4.616281580628424,4.611899891728058,4.607518202827691,4.603136513927325,4.598754825027072,4.5943731361267055,4.589991447226339,4.5856097583259725,4.58122806942572,4.576846380525353,4.572464691624987,4.568083002724734,4.563701313824367,4.559319624924001,4.5538425137986,4.549460824898233,4.545079135997867,4.540697447097614,4.536315758197247,4.531934069296881,4.527552380396628,4.5231706914962615,4.518789002595895,4.5144073136955285,4.510025624795276,4.505643935894909,4.501262246994543,4.496880558094176,4.492498869193923,4.488117180293557,4.48373549139319,4.479353802492938,4.474972113592571,4.470590424692205,4.465113313566803,4.460731624666437,4.45634993576607,4.4519682468658175,4.447586557965451,4.4432048690650845,4.438823180164832,4.434441491264465,4.430059802364099,4.425678113463732,4.421296424563479,4.416914735663113,4.412533046762746,4.40815135786238,4.403769668962127,4.399387980061761,4.395006291161394,4.390624602261141,4.386242913360775,4.3807658022353735],\"type\":\"scatter\"}],                        {\"template\":{\"data\":{\"histogram2dcontour\":[{\"type\":\"histogram2dcontour\",\"colorbar\":{\"outlinewidth\":0,\"ticks\":\"\"},\"colorscale\":[[0.0,\"#0d0887\"],[0.1111111111111111,\"#46039f\"],[0.2222222222222222,\"#7201a8\"],[0.3333333333333333,\"#9c179e\"],[0.4444444444444444,\"#bd3786\"],[0.5555555555555556,\"#d8576b\"],[0.6666666666666666,\"#ed7953\"],[0.7777777777777778,\"#fb9f3a\"],[0.8888888888888888,\"#fdca26\"],[1.0,\"#f0f921\"]]}],\"choropleth\":[{\"type\":\"choropleth\",\"colorbar\":{\"outlinewidth\":0,\"ticks\":\"\"}}],\"histogram2d\":[{\"type\":\"histogram2d\",\"colorbar\":{\"outlinewidth\":0,\"ticks\":\"\"},\"colorscale\":[[0.0,\"#0d0887\"],[0.1111111111111111,\"#46039f\"],[0.2222222222222222,\"#7201a8\"],[0.3333333333333333,\"#9c179e\"],[0.4444444444444444,\"#bd3786\"],[0.5555555555555556,\"#d8576b\"],[0.6666666666666666,\"#ed7953\"],[0.7777777777777778,\"#fb9f3a\"],[0.8888888888888888,\"#fdca26\"],[1.0,\"#f0f921\"]]}],\"heatmap\":[{\"type\":\"heatmap\",\"colorbar\":{\"outlinewidth\":0,\"ticks\":\"\"},\"colorscale\":[[0.0,\"#0d0887\"],[0.1111111111111111,\"#46039f\"],[0.2222222222222222,\"#7201a8\"],[0.3333333333333333,\"#9c179e\"],[0.4444444444444444,\"#bd3786\"],[0.5555555555555556,\"#d8576b\"],[0.6666666666666666,\"#ed7953\"],[0.7777777777777778,\"#fb9f3a\"],[0.8888888888888888,\"#fdca26\"],[1.0,\"#f0f921\"]]}],\"heatmapgl\":[{\"type\":\"heatmapgl\",\"colorbar\":{\"outlinewidth\":0,\"ticks\":\"\"},\"colorscale\":[[0.0,\"#0d0887\"],[0.1111111111111111,\"#46039f\"],[0.2222222222222222,\"#7201a8\"],[0.3333333333333333,\"#9c179e\"],[0.4444444444444444,\"#bd3786\"],[0.5555555555555556,\"#d8576b\"],[0.6666666666666666,\"#ed7953\"],[0.7777777777777778,\"#fb9f3a\"],[0.8888888888888888,\"#fdca26\"],[1.0,\"#f0f921\"]]}],\"contourcarpet\":[{\"type\":\"contourcarpet\",\"colorbar\":{\"outlinewidth\":0,\"ticks\":\"\"}}],\"contour\":[{\"type\":\"contour\",\"colorbar\":{\"outlinewidth\":0,\"ticks\":\"\"},\"colorscale\":[[0.0,\"#0d0887\"],[0.1111111111111111,\"#46039f\"],[0.2222222222222222,\"#7201a8\"],[0.3333333333333333,\"#9c179e\"],[0.4444444444444444,\"#bd3786\"],[0.5555555555555556,\"#d8576b\"],[0.6666666666666666,\"#ed7953\"],[0.7777777777777778,\"#fb9f3a\"],[0.8888888888888888,\"#fdca26\"],[1.0,\"#f0f921\"]]}],\"surface\":[{\"type\":\"surface\",\"colorbar\":{\"outlinewidth\":0,\"ticks\":\"\"},\"colorscale\":[[0.0,\"#0d0887\"],[0.1111111111111111,\"#46039f\"],[0.2222222222222222,\"#7201a8\"],[0.3333333333333333,\"#9c179e\"],[0.4444444444444444,\"#bd3786\"],[0.5555555555555556,\"#d8576b\"],[0.6666666666666666,\"#ed7953\"],[0.7777777777777778,\"#fb9f3a\"],[0.8888888888888888,\"#fdca26\"],[1.0,\"#f0f921\"]]}],\"mesh3d\":[{\"type\":\"mesh3d\",\"colorbar\":{\"outlinewidth\":0,\"ticks\":\"\"}}],\"scatter\":[{\"fillpattern\":{\"fillmode\":\"overlay\",\"size\":10,\"solidity\":0.2},\"type\":\"scatter\"}],\"parcoords\":[{\"type\":\"parcoords\",\"line\":{\"colorbar\":{\"outlinewidth\":0,\"ticks\":\"\"}}}],\"scatterpolargl\":[{\"type\":\"scatterpolargl\",\"marker\":{\"colorbar\":{\"outlinewidth\":0,\"ticks\":\"\"}}}],\"bar\":[{\"error_x\":{\"color\":\"#2a3f5f\"},\"error_y\":{\"color\":\"#2a3f5f\"},\"marker\":{\"line\":{\"color\":\"#E5ECF6\",\"width\":0.5},\"pattern\":{\"fillmode\":\"overlay\",\"size\":10,\"solidity\":0.2}},\"type\":\"bar\"}],\"scattergeo\":[{\"type\":\"scattergeo\",\"marker\":{\"colorbar\":{\"outlinewidth\":0,\"ticks\":\"\"}}}],\"scatterpolar\":[{\"type\":\"scatterpolar\",\"marker\":{\"colorbar\":{\"outlinewidth\":0,\"ticks\":\"\"}}}],\"histogram\":[{\"marker\":{\"pattern\":{\"fillmode\":\"overlay\",\"size\":10,\"solidity\":0.2}},\"type\":\"histogram\"}],\"scattergl\":[{\"type\":\"scattergl\",\"marker\":{\"colorbar\":{\"outlinewidth\":0,\"ticks\":\"\"}}}],\"scatter3d\":[{\"type\":\"scatter3d\",\"line\":{\"colorbar\":{\"outlinewidth\":0,\"ticks\":\"\"}},\"marker\":{\"colorbar\":{\"outlinewidth\":0,\"ticks\":\"\"}}}],\"scattermapbox\":[{\"type\":\"scattermapbox\",\"marker\":{\"colorbar\":{\"outlinewidth\":0,\"ticks\":\"\"}}}],\"scatterternary\":[{\"type\":\"scatterternary\",\"marker\":{\"colorbar\":{\"outlinewidth\":0,\"ticks\":\"\"}}}],\"scattercarpet\":[{\"type\":\"scattercarpet\",\"marker\":{\"colorbar\":{\"outlinewidth\":0,\"ticks\":\"\"}}}],\"carpet\":[{\"aaxis\":{\"endlinecolor\":\"#2a3f5f\",\"gridcolor\":\"white\",\"linecolor\":\"white\",\"minorgridcolor\":\"white\",\"startlinecolor\":\"#2a3f5f\"},\"baxis\":{\"endlinecolor\":\"#2a3f5f\",\"gridcolor\":\"white\",\"linecolor\":\"white\",\"minorgridcolor\":\"white\",\"startlinecolor\":\"#2a3f5f\"},\"type\":\"carpet\"}],\"table\":[{\"cells\":{\"fill\":{\"color\":\"#EBF0F8\"},\"line\":{\"color\":\"white\"}},\"header\":{\"fill\":{\"color\":\"#C8D4E3\"},\"line\":{\"color\":\"white\"}},\"type\":\"table\"}],\"barpolar\":[{\"marker\":{\"line\":{\"color\":\"#E5ECF6\",\"width\":0.5},\"pattern\":{\"fillmode\":\"overlay\",\"size\":10,\"solidity\":0.2}},\"type\":\"barpolar\"}],\"pie\":[{\"automargin\":true,\"type\":\"pie\"}]},\"layout\":{\"autotypenumbers\":\"strict\",\"colorway\":[\"#636efa\",\"#EF553B\",\"#00cc96\",\"#ab63fa\",\"#FFA15A\",\"#19d3f3\",\"#FF6692\",\"#B6E880\",\"#FF97FF\",\"#FECB52\"],\"font\":{\"color\":\"#2a3f5f\"},\"hovermode\":\"closest\",\"hoverlabel\":{\"align\":\"left\"},\"paper_bgcolor\":\"white\",\"plot_bgcolor\":\"#E5ECF6\",\"polar\":{\"bgcolor\":\"#E5ECF6\",\"angularaxis\":{\"gridcolor\":\"white\",\"linecolor\":\"white\",\"ticks\":\"\"},\"radialaxis\":{\"gridcolor\":\"white\",\"linecolor\":\"white\",\"ticks\":\"\"}},\"ternary\":{\"bgcolor\":\"#E5ECF6\",\"aaxis\":{\"gridcolor\":\"white\",\"linecolor\":\"white\",\"ticks\":\"\"},\"baxis\":{\"gridcolor\":\"white\",\"linecolor\":\"white\",\"ticks\":\"\"},\"caxis\":{\"gridcolor\":\"white\",\"linecolor\":\"white\",\"ticks\":\"\"}},\"coloraxis\":{\"colorbar\":{\"outlinewidth\":0,\"ticks\":\"\"}},\"colorscale\":{\"sequential\":[[0.0,\"#0d0887\"],[0.1111111111111111,\"#46039f\"],[0.2222222222222222,\"#7201a8\"],[0.3333333333333333,\"#9c179e\"],[0.4444444444444444,\"#bd3786\"],[0.5555555555555556,\"#d8576b\"],[0.6666666666666666,\"#ed7953\"],[0.7777777777777778,\"#fb9f3a\"],[0.8888888888888888,\"#fdca26\"],[1.0,\"#f0f921\"]],\"sequentialminus\":[[0.0,\"#0d0887\"],[0.1111111111111111,\"#46039f\"],[0.2222222222222222,\"#7201a8\"],[0.3333333333333333,\"#9c179e\"],[0.4444444444444444,\"#bd3786\"],[0.5555555555555556,\"#d8576b\"],[0.6666666666666666,\"#ed7953\"],[0.7777777777777778,\"#fb9f3a\"],[0.8888888888888888,\"#fdca26\"],[1.0,\"#f0f921\"]],\"diverging\":[[0,\"#8e0152\"],[0.1,\"#c51b7d\"],[0.2,\"#de77ae\"],[0.3,\"#f1b6da\"],[0.4,\"#fde0ef\"],[0.5,\"#f7f7f7\"],[0.6,\"#e6f5d0\"],[0.7,\"#b8e186\"],[0.8,\"#7fbc41\"],[0.9,\"#4d9221\"],[1,\"#276419\"]]},\"xaxis\":{\"gridcolor\":\"white\",\"linecolor\":\"white\",\"ticks\":\"\",\"title\":{\"standoff\":15},\"zerolinecolor\":\"white\",\"automargin\":true,\"zerolinewidth\":2},\"yaxis\":{\"gridcolor\":\"white\",\"linecolor\":\"white\",\"ticks\":\"\",\"title\":{\"standoff\":15},\"zerolinecolor\":\"white\",\"automargin\":true,\"zerolinewidth\":2},\"scene\":{\"xaxis\":{\"backgroundcolor\":\"#E5ECF6\",\"gridcolor\":\"white\",\"linecolor\":\"white\",\"showbackground\":true,\"ticks\":\"\",\"zerolinecolor\":\"white\",\"gridwidth\":2},\"yaxis\":{\"backgroundcolor\":\"#E5ECF6\",\"gridcolor\":\"white\",\"linecolor\":\"white\",\"showbackground\":true,\"ticks\":\"\",\"zerolinecolor\":\"white\",\"gridwidth\":2},\"zaxis\":{\"backgroundcolor\":\"#E5ECF6\",\"gridcolor\":\"white\",\"linecolor\":\"white\",\"showbackground\":true,\"ticks\":\"\",\"zerolinecolor\":\"white\",\"gridwidth\":2}},\"shapedefaults\":{\"line\":{\"color\":\"#2a3f5f\"}},\"annotationdefaults\":{\"arrowcolor\":\"#2a3f5f\",\"arrowhead\":0,\"arrowwidth\":1},\"geo\":{\"bgcolor\":\"white\",\"landcolor\":\"#E5ECF6\",\"subunitcolor\":\"white\",\"showland\":true,\"showlakes\":true,\"lakecolor\":\"white\"},\"title\":{\"x\":0.05},\"mapbox\":{\"style\":\"light\"}}},\"xaxis\":{\"anchor\":\"y\",\"domain\":[0.0,1.0],\"title\":{\"text\":\"date\"}},\"yaxis\":{\"anchor\":\"x\",\"domain\":[0.0,1.0],\"title\":{\"text\":\"channel_value\"}},\"legend\":{\"tracegroupgap\":0},\"title\":{\"text\":\"Daily Aggregated Temperature Over Time\"}},                        {\"responsive\": true}                    ).then(function(){\n",
              "                            \n",
              "var gd = document.getElementById('005abdcc-6cc2-4e9e-ba24-676686385a33');\n",
              "var x = new MutationObserver(function (mutations, observer) {{\n",
              "        var display = window.getComputedStyle(gd).display;\n",
              "        if (!display || display === 'none') {{\n",
              "            console.log([gd, 'removed!']);\n",
              "            Plotly.purge(gd);\n",
              "            observer.disconnect();\n",
              "        }}\n",
              "}});\n",
              "\n",
              "// Listen for the removal of the full notebook cells\n",
              "var notebookContainer = gd.closest('#notebook-container');\n",
              "if (notebookContainer) {{\n",
              "    x.observe(notebookContainer, {childList: true});\n",
              "}}\n",
              "\n",
              "// Listen for the clearing of the current output cell\n",
              "var outputEl = gd.closest('.output');\n",
              "if (outputEl) {{\n",
              "    x.observe(outputEl, {childList: true});\n",
              "}}\n",
              "\n",
              "                        })                };                            </script>        </div>\n",
              "</body>\n",
              "</html>"
            ]
          },
          "metadata": {}
        }
      ]
    },
    {
      "cell_type": "code",
      "source": [
        "# @title Export To CSV\n",
        "# Export to csv\n",
        "df_final.to_csv('/content/drive/My Drive/final_dataset.csv', index=False)\n"
      ],
      "metadata": {
        "id": "YWpSZwM3pstr"
      },
      "execution_count": null,
      "outputs": []
    }
  ]
}